{
 "cells": [
  {
   "cell_type": "markdown",
   "id": "e2e18b52",
   "metadata": {},
   "source": [
    "# Prepare Dataset"
   ]
  },
  {
   "cell_type": "code",
   "execution_count": 10,
   "id": "05014911",
   "metadata": {},
   "outputs": [],
   "source": [
    "import pandas as pd\n",
    "import numpy as np\n",
    "\n",
    "df_train = pd.read_csv('../data/train.csv')\n",
    "df_test = pd.read_csv('../data/test.csv')\n",
    "df_target = pd.read_csv('../data/target.csv')"
   ]
  },
  {
   "cell_type": "code",
   "execution_count": 11,
   "id": "ef982fa1",
   "metadata": {},
   "outputs": [
    {
     "name": "stdout",
     "output_type": "stream",
     "text": [
      "df_train, df_test, df_target\n",
      "(7000, 16) (3000, 17) (7000, 1)\n",
      "Column ID is missing in train set\n"
     ]
    }
   ],
   "source": [
    "print(\"df_train, df_test, df_target\")\n",
    "print(df_train.shape, df_test.shape, df_target.shape)\n",
    "\n",
    "for col in df_test.columns:\n",
    "    if col not in df_train.columns:\n",
    "        print(f\"Column {col} is missing in train set\")\n",
    "        df_train[col] = np.nan "
   ]
  },
  {
   "cell_type": "code",
   "execution_count": 12,
   "id": "339104d5",
   "metadata": {},
   "outputs": [],
   "source": [
    "df_test['ID'].sort_values().head(6)\n",
    "df_train['ID'] = -1"
   ]
  },
  {
   "cell_type": "code",
   "execution_count": 13,
   "id": "fbecb909",
   "metadata": {},
   "outputs": [
    {
     "data": {
      "text/plain": [
       "array([False,  True])"
      ]
     },
     "execution_count": 13,
     "metadata": {},
     "output_type": "execute_result"
    }
   ],
   "source": [
    "# tambahkan target ke df_train\n",
    "df_train['coppaRisk'] = df_target['coppaRisk']\n",
    "df_test['coppaRisk'] = np.nan\n",
    "df_train['coppaRisk'].unique()"
   ]
  },
  {
   "cell_type": "code",
   "execution_count": 14,
   "id": "9a03c9a3",
   "metadata": {},
   "outputs": [],
   "source": [
    "df_train.to_csv('../data/train_with_target.csv', index=False)\n",
    "df_test.to_csv('../data/test_with_target.csv', index=False)"
   ]
  },
  {
   "cell_type": "code",
   "execution_count": 15,
   "id": "1f91ce38",
   "metadata": {},
   "outputs": [
    {
     "data": {
      "text/plain": [
       "(10000, 18)"
      ]
     },
     "execution_count": 15,
     "metadata": {},
     "output_type": "execute_result"
    }
   ],
   "source": [
    "# merge train and test\n",
    "df = pd.concat([df_train, df_test], axis=0)\n",
    "df.shape"
   ]
  },
  {
   "cell_type": "code",
   "execution_count": 16,
   "id": "d2bcfced",
   "metadata": {},
   "outputs": [
    {
     "data": {
      "text/plain": [
       "developerCountry                    object\n",
       "countryCode                         object\n",
       "userRatingCount                      int64\n",
       "primaryGenreName                    object\n",
       "downloads                           object\n",
       "deviceType                          object\n",
       "hasPrivacyLink                      object\n",
       "hasTermsOfServiceLink               object\n",
       "hasTermsOfServiceLinkRating         object\n",
       "isCorporateEmailScore              float64\n",
       "adSpent                            float64\n",
       "appAge                             float64\n",
       "averageUserRating                  float64\n",
       "appContentBrandSafetyRating         object\n",
       "appDescriptionBrandSafetyRating     object\n",
       "mfaRating                           object\n",
       "ID                                   int64\n",
       "coppaRisk                           object\n",
       "dtype: object"
      ]
     },
     "execution_count": 16,
     "metadata": {},
     "output_type": "execute_result"
    }
   ],
   "source": [
    "df.dtypes"
   ]
  },
  {
   "cell_type": "code",
   "execution_count": 17,
   "id": "6fc69f63",
   "metadata": {},
   "outputs": [
    {
     "data": {
      "text/html": [
       "<div>\n",
       "<style scoped>\n",
       "    .dataframe tbody tr th:only-of-type {\n",
       "        vertical-align: middle;\n",
       "    }\n",
       "\n",
       "    .dataframe tbody tr th {\n",
       "        vertical-align: top;\n",
       "    }\n",
       "\n",
       "    .dataframe thead th {\n",
       "        text-align: right;\n",
       "    }\n",
       "</style>\n",
       "<table border=\"1\" class=\"dataframe\">\n",
       "  <thead>\n",
       "    <tr style=\"text-align: right;\">\n",
       "      <th></th>\n",
       "      <th>userRatingCount</th>\n",
       "      <th>isCorporateEmailScore</th>\n",
       "      <th>adSpent</th>\n",
       "      <th>appAge</th>\n",
       "      <th>averageUserRating</th>\n",
       "      <th>ID</th>\n",
       "    </tr>\n",
       "  </thead>\n",
       "  <tbody>\n",
       "    <tr>\n",
       "      <th>count</th>\n",
       "      <td>1.000000e+04</td>\n",
       "      <td>8432.000000</td>\n",
       "      <td>1.895000e+03</td>\n",
       "      <td>9933.000000</td>\n",
       "      <td>8254.000000</td>\n",
       "      <td>10000.000000</td>\n",
       "    </tr>\n",
       "    <tr>\n",
       "      <th>mean</th>\n",
       "      <td>3.352463e+04</td>\n",
       "      <td>45.954222</td>\n",
       "      <td>2.859565e+03</td>\n",
       "      <td>56.778133</td>\n",
       "      <td>2.484977</td>\n",
       "      <td>1504.189500</td>\n",
       "    </tr>\n",
       "    <tr>\n",
       "      <th>std</th>\n",
       "      <td>5.209562e+05</td>\n",
       "      <td>49.375769</td>\n",
       "      <td>7.699618e+04</td>\n",
       "      <td>36.946823</td>\n",
       "      <td>1.902750</td>\n",
       "      <td>2792.959612</td>\n",
       "    </tr>\n",
       "    <tr>\n",
       "      <th>min</th>\n",
       "      <td>0.000000e+00</td>\n",
       "      <td>0.000000</td>\n",
       "      <td>7.038525e-03</td>\n",
       "      <td>-1.200000</td>\n",
       "      <td>0.000000</td>\n",
       "      <td>-1.000000</td>\n",
       "    </tr>\n",
       "    <tr>\n",
       "      <th>25%</th>\n",
       "      <td>0.000000e+00</td>\n",
       "      <td>0.000000</td>\n",
       "      <td>1.089968e+00</td>\n",
       "      <td>27.400000</td>\n",
       "      <td>0.000000</td>\n",
       "      <td>-1.000000</td>\n",
       "    </tr>\n",
       "    <tr>\n",
       "      <th>50%</th>\n",
       "      <td>1.000000e+00</td>\n",
       "      <td>0.000000</td>\n",
       "      <td>7.750849e+00</td>\n",
       "      <td>52.566667</td>\n",
       "      <td>3.000000</td>\n",
       "      <td>-1.000000</td>\n",
       "    </tr>\n",
       "    <tr>\n",
       "      <th>75%</th>\n",
       "      <td>8.525000e+01</td>\n",
       "      <td>99.000000</td>\n",
       "      <td>4.862666e+01</td>\n",
       "      <td>79.600000</td>\n",
       "      <td>4.000000</td>\n",
       "      <td>1680.500000</td>\n",
       "    </tr>\n",
       "    <tr>\n",
       "      <th>max</th>\n",
       "      <td>3.854334e+07</td>\n",
       "      <td>99.000000</td>\n",
       "      <td>3.143906e+06</td>\n",
       "      <td>196.466667</td>\n",
       "      <td>5.000000</td>\n",
       "      <td>9999.000000</td>\n",
       "    </tr>\n",
       "  </tbody>\n",
       "</table>\n",
       "</div>"
      ],
      "text/plain": [
       "       userRatingCount  isCorporateEmailScore       adSpent       appAge  \\\n",
       "count     1.000000e+04            8432.000000  1.895000e+03  9933.000000   \n",
       "mean      3.352463e+04              45.954222  2.859565e+03    56.778133   \n",
       "std       5.209562e+05              49.375769  7.699618e+04    36.946823   \n",
       "min       0.000000e+00               0.000000  7.038525e-03    -1.200000   \n",
       "25%       0.000000e+00               0.000000  1.089968e+00    27.400000   \n",
       "50%       1.000000e+00               0.000000  7.750849e+00    52.566667   \n",
       "75%       8.525000e+01              99.000000  4.862666e+01    79.600000   \n",
       "max       3.854334e+07              99.000000  3.143906e+06   196.466667   \n",
       "\n",
       "       averageUserRating            ID  \n",
       "count        8254.000000  10000.000000  \n",
       "mean            2.484977   1504.189500  \n",
       "std             1.902750   2792.959612  \n",
       "min             0.000000     -1.000000  \n",
       "25%             0.000000     -1.000000  \n",
       "50%             3.000000     -1.000000  \n",
       "75%             4.000000   1680.500000  \n",
       "max             5.000000   9999.000000  "
      ]
     },
     "execution_count": 17,
     "metadata": {},
     "output_type": "execute_result"
    }
   ],
   "source": [
    "df.describe()"
   ]
  },
  {
   "cell_type": "code",
   "execution_count": 18,
   "id": "acea2b20",
   "metadata": {},
   "outputs": [
    {
     "name": "stdout",
     "output_type": "stream",
     "text": [
      "Missing values in train set: \n",
      "\n",
      "developerCountry                      0\n",
      "countryCode                          64\n",
      "userRatingCount                       0\n",
      "primaryGenreName                      0\n",
      "downloads                          2149\n",
      "deviceType                            0\n",
      "hasPrivacyLink                      750\n",
      "hasTermsOfServiceLink              4635\n",
      "hasTermsOfServiceLinkRating        4635\n",
      "isCorporateEmailScore              1128\n",
      "adSpent                            5679\n",
      "appAge                               50\n",
      "averageUserRating                  1232\n",
      "appContentBrandSafetyRating        6162\n",
      "appDescriptionBrandSafetyRating       0\n",
      "mfaRating                             0\n",
      "ID                                    0\n",
      "coppaRisk                             0\n",
      "dtype: int64\n"
     ]
    }
   ],
   "source": [
    "# Check for missing values\n",
    "print(\"Missing values in train set: \\n\")\n",
    "print(df_train.isnull().sum())"
   ]
  },
  {
   "cell_type": "markdown",
   "id": "0566f68a",
   "metadata": {},
   "source": [
    "# Preprocessing Data"
   ]
  },
  {
   "cell_type": "markdown",
   "id": "485709d5",
   "metadata": {},
   "source": [
    "## country code"
   ]
  },
  {
   "cell_type": "code",
   "execution_count": 38,
   "id": "0b141e8a",
   "metadata": {},
   "outputs": [
    {
     "data": {
      "text/plain": [
       "np.int64(93)"
      ]
     },
     "execution_count": 38,
     "metadata": {},
     "output_type": "execute_result"
    }
   ],
   "source": [
    "df['countryCode'].isna().sum()"
   ]
  },
  {
   "cell_type": "code",
   "execution_count": 39,
   "id": "bd47a597",
   "metadata": {},
   "outputs": [],
   "source": [
    "def dummies_by_corr(df, column,top= 10 ,target = 'coppaRisk'):\n",
    "    df_dummies = pd.get_dummies(df.iloc[:len(df_train)][column], prefix=column, drop_first=True)\n",
    "    df_dummies[target] = df.iloc[:len(df_train)][target]\n",
    "\n",
    "    # correlation each column with target\n",
    "    df_corr = abs(df_dummies.corr())\n",
    "    df_corr = df_corr[target].sort_values(ascending=False)\n",
    "    df_corr.pop(target)\n",
    "    print(\"Correlation with target:\")\n",
    "    print(df_corr[:10])\n",
    "    \n",
    "    # get top 10 columns\n",
    "    top_10 = df_corr[:top].index.tolist()\n",
    "    \n",
    "    df_dummies = pd.get_dummies(df[column], prefix=column, drop_first=True)\n",
    "    df_dummies = df_dummies[top_10]\n",
    "    \n",
    "    # merge with df\n",
    "    df[top_10] = df_dummies[top_10]\n",
    "    print(\"\\nShape after merging:\")\n",
    "    print(df.shape)\n",
    "    \n",
    "    return df\n",
    "\n",
    "# df = dummies_by_corr(df, column = 'countryCode', top= 20)"
   ]
  },
  {
   "cell_type": "markdown",
   "id": "7084828d",
   "metadata": {},
   "source": [
    "## developer country"
   ]
  },
  {
   "cell_type": "code",
   "execution_count": 40,
   "id": "e677261f",
   "metadata": {},
   "outputs": [
    {
     "data": {
      "text/plain": [
       "125"
      ]
     },
     "execution_count": 40,
     "metadata": {},
     "output_type": "execute_result"
    }
   ],
   "source": [
    "df['developerCountry'].nunique()"
   ]
  },
  {
   "cell_type": "code",
   "execution_count": 41,
   "id": "ea966361",
   "metadata": {},
   "outputs": [],
   "source": [
    "missing_indicators = [\n",
    "    \"\", \"ADDRESS NOT LISTED IN PLAYSTORE\",\n",
    "    \"PERSONAL DATA, CAN NOT BE PUBLICLY DISCLOSED ACCORDING TO APPLICABLE LAWS.\",\n",
    "    \"STATUTORY MASKING ENABLED\", \"CANNOT IDENTIFY COUNTRY\"\n",
    "]\n",
    "df[\"developerCountry\"] = df[\"developerCountry\"].replace(missing_indicators, np.nan)\n",
    "df[\"developerCountry_missing\"] = df[\"developerCountry\"].isna().astype(int)"
   ]
  },
  {
   "cell_type": "code",
   "execution_count": 42,
   "id": "5b6c8635",
   "metadata": {},
   "outputs": [
    {
     "data": {
      "text/plain": [
       "developerCountry_missing\n",
       "1    7261\n",
       "0    2739\n",
       "Name: count, dtype: int64"
      ]
     },
     "execution_count": 42,
     "metadata": {},
     "output_type": "execute_result"
    }
   ],
   "source": [
    "df[\"developerCountry_missing\"].value_counts()"
   ]
  },
  {
   "cell_type": "markdown",
   "id": "155fc694",
   "metadata": {},
   "source": [
    "## downloads"
   ]
  },
  {
   "cell_type": "code",
   "execution_count": 43,
   "id": "485f15bd",
   "metadata": {},
   "outputs": [
    {
     "data": {
      "text/plain": [
       "np.int64(0)"
      ]
     },
     "execution_count": 43,
     "metadata": {},
     "output_type": "execute_result"
    }
   ],
   "source": [
    "df['downloads'].isna().sum()"
   ]
  },
  {
   "cell_type": "code",
   "execution_count": 44,
   "id": "239f3994",
   "metadata": {},
   "outputs": [
    {
     "ename": "AttributeError",
     "evalue": "'float' object has no attribute 'replace'",
     "output_type": "error",
     "traceback": [
      "\u001b[31m---------------------------------------------------------------------------\u001b[39m",
      "\u001b[31mAttributeError\u001b[39m                            Traceback (most recent call last)",
      "\u001b[36mCell\u001b[39m\u001b[36m \u001b[39m\u001b[32mIn[44]\u001b[39m\u001b[32m, line 7\u001b[39m\n\u001b[32m      4\u001b[39m     parts = value.replace(\u001b[33m'\u001b[39m\u001b[33m,\u001b[39m\u001b[33m'\u001b[39m, \u001b[33m'\u001b[39m\u001b[33m'\u001b[39m).split(\u001b[33m'\u001b[39m\u001b[33m - \u001b[39m\u001b[33m'\u001b[39m)\n\u001b[32m      5\u001b[39m     \u001b[38;5;28;01mreturn\u001b[39;00m \u001b[38;5;28mint\u001b[39m(parts[\u001b[32m0\u001b[39m]), \u001b[38;5;28mint\u001b[39m(parts[\u001b[32m1\u001b[39m])\n\u001b[32m----> \u001b[39m\u001b[32m7\u001b[39m df[[\u001b[33m'\u001b[39m\u001b[33mdownloads_min\u001b[39m\u001b[33m'\u001b[39m, \u001b[33m'\u001b[39m\u001b[33mdownloads_max\u001b[39m\u001b[33m'\u001b[39m]] = \u001b[43mdf\u001b[49m\u001b[43m[\u001b[49m\u001b[33;43m'\u001b[39;49m\u001b[33;43mdownloads\u001b[39;49m\u001b[33;43m'\u001b[39;49m\u001b[43m]\u001b[49m\u001b[43m.\u001b[49m\u001b[43mapply\u001b[49m\u001b[43m(\u001b[49m\u001b[43mparse_downloads\u001b[49m\u001b[43m)\u001b[49m.apply(pd.Series)\n",
      "\u001b[36mFile \u001b[39m\u001b[32m~/.local/lib/python3.11/site-packages/pandas/core/series.py:4935\u001b[39m, in \u001b[36mSeries.apply\u001b[39m\u001b[34m(self, func, convert_dtype, args, by_row, **kwargs)\u001b[39m\n\u001b[32m   4800\u001b[39m \u001b[38;5;28;01mdef\u001b[39;00m\u001b[38;5;250m \u001b[39m\u001b[34mapply\u001b[39m(\n\u001b[32m   4801\u001b[39m     \u001b[38;5;28mself\u001b[39m,\n\u001b[32m   4802\u001b[39m     func: AggFuncType,\n\u001b[32m   (...)\u001b[39m\u001b[32m   4807\u001b[39m     **kwargs,\n\u001b[32m   4808\u001b[39m ) -> DataFrame | Series:\n\u001b[32m   4809\u001b[39m \u001b[38;5;250m    \u001b[39m\u001b[33;03m\"\"\"\u001b[39;00m\n\u001b[32m   4810\u001b[39m \u001b[33;03m    Invoke function on values of Series.\u001b[39;00m\n\u001b[32m   4811\u001b[39m \n\u001b[32m   (...)\u001b[39m\u001b[32m   4926\u001b[39m \u001b[33;03m    dtype: float64\u001b[39;00m\n\u001b[32m   4927\u001b[39m \u001b[33;03m    \"\"\"\u001b[39;00m\n\u001b[32m   4928\u001b[39m     \u001b[38;5;28;01mreturn\u001b[39;00m \u001b[43mSeriesApply\u001b[49m\u001b[43m(\u001b[49m\n\u001b[32m   4929\u001b[39m \u001b[43m        \u001b[49m\u001b[38;5;28;43mself\u001b[39;49m\u001b[43m,\u001b[49m\n\u001b[32m   4930\u001b[39m \u001b[43m        \u001b[49m\u001b[43mfunc\u001b[49m\u001b[43m,\u001b[49m\n\u001b[32m   4931\u001b[39m \u001b[43m        \u001b[49m\u001b[43mconvert_dtype\u001b[49m\u001b[43m=\u001b[49m\u001b[43mconvert_dtype\u001b[49m\u001b[43m,\u001b[49m\n\u001b[32m   4932\u001b[39m \u001b[43m        \u001b[49m\u001b[43mby_row\u001b[49m\u001b[43m=\u001b[49m\u001b[43mby_row\u001b[49m\u001b[43m,\u001b[49m\n\u001b[32m   4933\u001b[39m \u001b[43m        \u001b[49m\u001b[43margs\u001b[49m\u001b[43m=\u001b[49m\u001b[43margs\u001b[49m\u001b[43m,\u001b[49m\n\u001b[32m   4934\u001b[39m \u001b[43m        \u001b[49m\u001b[43mkwargs\u001b[49m\u001b[43m=\u001b[49m\u001b[43mkwargs\u001b[49m\u001b[43m,\u001b[49m\n\u001b[32m-> \u001b[39m\u001b[32m4935\u001b[39m \u001b[43m    \u001b[49m\u001b[43m)\u001b[49m\u001b[43m.\u001b[49m\u001b[43mapply\u001b[49m\u001b[43m(\u001b[49m\u001b[43m)\u001b[49m\n",
      "\u001b[36mFile \u001b[39m\u001b[32m~/.local/lib/python3.11/site-packages/pandas/core/apply.py:1422\u001b[39m, in \u001b[36mSeriesApply.apply\u001b[39m\u001b[34m(self)\u001b[39m\n\u001b[32m   1419\u001b[39m     \u001b[38;5;28;01mreturn\u001b[39;00m \u001b[38;5;28mself\u001b[39m.apply_compat()\n\u001b[32m   1421\u001b[39m \u001b[38;5;66;03m# self.func is Callable\u001b[39;00m\n\u001b[32m-> \u001b[39m\u001b[32m1422\u001b[39m \u001b[38;5;28;01mreturn\u001b[39;00m \u001b[38;5;28;43mself\u001b[39;49m\u001b[43m.\u001b[49m\u001b[43mapply_standard\u001b[49m\u001b[43m(\u001b[49m\u001b[43m)\u001b[49m\n",
      "\u001b[36mFile \u001b[39m\u001b[32m~/.local/lib/python3.11/site-packages/pandas/core/apply.py:1502\u001b[39m, in \u001b[36mSeriesApply.apply_standard\u001b[39m\u001b[34m(self)\u001b[39m\n\u001b[32m   1496\u001b[39m \u001b[38;5;66;03m# row-wise access\u001b[39;00m\n\u001b[32m   1497\u001b[39m \u001b[38;5;66;03m# apply doesn't have a `na_action` keyword and for backward compat reasons\u001b[39;00m\n\u001b[32m   1498\u001b[39m \u001b[38;5;66;03m# we need to give `na_action=\"ignore\"` for categorical data.\u001b[39;00m\n\u001b[32m   1499\u001b[39m \u001b[38;5;66;03m# TODO: remove the `na_action=\"ignore\"` when that default has been changed in\u001b[39;00m\n\u001b[32m   1500\u001b[39m \u001b[38;5;66;03m#  Categorical (GH51645).\u001b[39;00m\n\u001b[32m   1501\u001b[39m action = \u001b[33m\"\u001b[39m\u001b[33mignore\u001b[39m\u001b[33m\"\u001b[39m \u001b[38;5;28;01mif\u001b[39;00m \u001b[38;5;28misinstance\u001b[39m(obj.dtype, CategoricalDtype) \u001b[38;5;28;01melse\u001b[39;00m \u001b[38;5;28;01mNone\u001b[39;00m\n\u001b[32m-> \u001b[39m\u001b[32m1502\u001b[39m mapped = \u001b[43mobj\u001b[49m\u001b[43m.\u001b[49m\u001b[43m_map_values\u001b[49m\u001b[43m(\u001b[49m\n\u001b[32m   1503\u001b[39m \u001b[43m    \u001b[49m\u001b[43mmapper\u001b[49m\u001b[43m=\u001b[49m\u001b[43mcurried\u001b[49m\u001b[43m,\u001b[49m\u001b[43m \u001b[49m\u001b[43mna_action\u001b[49m\u001b[43m=\u001b[49m\u001b[43maction\u001b[49m\u001b[43m,\u001b[49m\u001b[43m \u001b[49m\u001b[43mconvert\u001b[49m\u001b[43m=\u001b[49m\u001b[38;5;28;43mself\u001b[39;49m\u001b[43m.\u001b[49m\u001b[43mconvert_dtype\u001b[49m\n\u001b[32m   1504\u001b[39m \u001b[43m\u001b[49m\u001b[43m)\u001b[49m\n\u001b[32m   1506\u001b[39m \u001b[38;5;28;01mif\u001b[39;00m \u001b[38;5;28mlen\u001b[39m(mapped) \u001b[38;5;129;01mand\u001b[39;00m \u001b[38;5;28misinstance\u001b[39m(mapped[\u001b[32m0\u001b[39m], ABCSeries):\n\u001b[32m   1507\u001b[39m     \u001b[38;5;66;03m# GH#43986 Need to do list(mapped) in order to get treated as nested\u001b[39;00m\n\u001b[32m   1508\u001b[39m     \u001b[38;5;66;03m#  See also GH#25959 regarding EA support\u001b[39;00m\n\u001b[32m   1509\u001b[39m     \u001b[38;5;28;01mreturn\u001b[39;00m obj._constructor_expanddim(\u001b[38;5;28mlist\u001b[39m(mapped), index=obj.index)\n",
      "\u001b[36mFile \u001b[39m\u001b[32m~/.local/lib/python3.11/site-packages/pandas/core/base.py:925\u001b[39m, in \u001b[36mIndexOpsMixin._map_values\u001b[39m\u001b[34m(self, mapper, na_action, convert)\u001b[39m\n\u001b[32m    922\u001b[39m \u001b[38;5;28;01mif\u001b[39;00m \u001b[38;5;28misinstance\u001b[39m(arr, ExtensionArray):\n\u001b[32m    923\u001b[39m     \u001b[38;5;28;01mreturn\u001b[39;00m arr.map(mapper, na_action=na_action)\n\u001b[32m--> \u001b[39m\u001b[32m925\u001b[39m \u001b[38;5;28;01mreturn\u001b[39;00m \u001b[43malgorithms\u001b[49m\u001b[43m.\u001b[49m\u001b[43mmap_array\u001b[49m\u001b[43m(\u001b[49m\u001b[43marr\u001b[49m\u001b[43m,\u001b[49m\u001b[43m \u001b[49m\u001b[43mmapper\u001b[49m\u001b[43m,\u001b[49m\u001b[43m \u001b[49m\u001b[43mna_action\u001b[49m\u001b[43m=\u001b[49m\u001b[43mna_action\u001b[49m\u001b[43m,\u001b[49m\u001b[43m \u001b[49m\u001b[43mconvert\u001b[49m\u001b[43m=\u001b[49m\u001b[43mconvert\u001b[49m\u001b[43m)\u001b[49m\n",
      "\u001b[36mFile \u001b[39m\u001b[32m~/.local/lib/python3.11/site-packages/pandas/core/algorithms.py:1743\u001b[39m, in \u001b[36mmap_array\u001b[39m\u001b[34m(arr, mapper, na_action, convert)\u001b[39m\n\u001b[32m   1741\u001b[39m values = arr.astype(\u001b[38;5;28mobject\u001b[39m, copy=\u001b[38;5;28;01mFalse\u001b[39;00m)\n\u001b[32m   1742\u001b[39m \u001b[38;5;28;01mif\u001b[39;00m na_action \u001b[38;5;129;01mis\u001b[39;00m \u001b[38;5;28;01mNone\u001b[39;00m:\n\u001b[32m-> \u001b[39m\u001b[32m1743\u001b[39m     \u001b[38;5;28;01mreturn\u001b[39;00m \u001b[43mlib\u001b[49m\u001b[43m.\u001b[49m\u001b[43mmap_infer\u001b[49m\u001b[43m(\u001b[49m\u001b[43mvalues\u001b[49m\u001b[43m,\u001b[49m\u001b[43m \u001b[49m\u001b[43mmapper\u001b[49m\u001b[43m,\u001b[49m\u001b[43m \u001b[49m\u001b[43mconvert\u001b[49m\u001b[43m=\u001b[49m\u001b[43mconvert\u001b[49m\u001b[43m)\u001b[49m\n\u001b[32m   1744\u001b[39m \u001b[38;5;28;01melse\u001b[39;00m:\n\u001b[32m   1745\u001b[39m     \u001b[38;5;28;01mreturn\u001b[39;00m lib.map_infer_mask(\n\u001b[32m   1746\u001b[39m         values, mapper, mask=isna(values).view(np.uint8), convert=convert\n\u001b[32m   1747\u001b[39m     )\n",
      "\u001b[36mFile \u001b[39m\u001b[32mpandas/_libs/lib.pyx:2999\u001b[39m, in \u001b[36mpandas._libs.lib.map_infer\u001b[39m\u001b[34m()\u001b[39m\n",
      "\u001b[36mCell\u001b[39m\u001b[36m \u001b[39m\u001b[32mIn[44]\u001b[39m\u001b[32m, line 4\u001b[39m, in \u001b[36mparse_downloads\u001b[39m\u001b[34m(value)\u001b[39m\n\u001b[32m      2\u001b[39m \u001b[38;5;28;01mdef\u001b[39;00m\u001b[38;5;250m \u001b[39m\u001b[34mparse_downloads\u001b[39m(value):\n\u001b[32m      3\u001b[39m     \u001b[38;5;28;01mif\u001b[39;00m pd.isna(value): \u001b[38;5;28;01mreturn\u001b[39;00m (np.nan, np.nan)\n\u001b[32m----> \u001b[39m\u001b[32m4\u001b[39m     parts = \u001b[43mvalue\u001b[49m\u001b[43m.\u001b[49m\u001b[43mreplace\u001b[49m(\u001b[33m'\u001b[39m\u001b[33m,\u001b[39m\u001b[33m'\u001b[39m, \u001b[33m'\u001b[39m\u001b[33m'\u001b[39m).split(\u001b[33m'\u001b[39m\u001b[33m - \u001b[39m\u001b[33m'\u001b[39m)\n\u001b[32m      5\u001b[39m     \u001b[38;5;28;01mreturn\u001b[39;00m \u001b[38;5;28mint\u001b[39m(parts[\u001b[32m0\u001b[39m]), \u001b[38;5;28mint\u001b[39m(parts[\u001b[32m1\u001b[39m])\n",
      "\u001b[31mAttributeError\u001b[39m: 'float' object has no attribute 'replace'"
     ]
    }
   ],
   "source": [
    "# parse downloads to min and max\n",
    "def parse_downloads(value):\n",
    "    if pd.isna(value): return (np.nan, np.nan)\n",
    "    parts = value.replace(',', '').split(' - ')\n",
    "    return int(parts[0]), int(parts[1])\n",
    "\n",
    "df[['downloads_min', 'downloads_max']] = df['downloads'].apply(parse_downloads).apply(pd.Series)"
   ]
  },
  {
   "cell_type": "code",
   "execution_count": null,
   "id": "22d5d544",
   "metadata": {},
   "outputs": [
    {
     "data": {
      "text/plain": [
       "(26, 21, 21)"
      ]
     },
     "execution_count": 26,
     "metadata": {},
     "output_type": "execute_result"
    }
   ],
   "source": [
    "df['downloads'].nunique(), df['downloads_min'].nunique(), df['downloads_max'].nunique()"
   ]
  },
  {
   "cell_type": "code",
   "execution_count": null,
   "id": "070208d8",
   "metadata": {},
   "outputs": [],
   "source": [
    "# Optional: fill missing with median\n",
    "df['downloads_min'] = df['downloads_min'].fillna(df['downloads_min'].median())\n",
    "df['downloads_max'] = df['downloads_max'].fillna(df['downloads_max'].median())\n",
    "\n",
    "df['downloads'] = (df['downloads_min'] + df['downloads_max']) / 2\n",
    "df['downloads'] = np.log1p(df['downloads']) # log transform"
   ]
  },
  {
   "cell_type": "markdown",
   "id": "0cfae6ec",
   "metadata": {},
   "source": [
    "## has privacy & TOS Link"
   ]
  },
  {
   "cell_type": "code",
   "execution_count": null,
   "id": "178cc167",
   "metadata": {},
   "outputs": [
    {
     "name": "stdout",
     "output_type": "stream",
     "text": [
      "null values in each column:\n"
     ]
    },
    {
     "data": {
      "text/plain": [
       "hasPrivacyLink           1066\n",
       "hasTermsOfServiceLink    6596\n",
       "dtype: int64"
      ]
     },
     "execution_count": 28,
     "metadata": {},
     "output_type": "execute_result"
    }
   ],
   "source": [
    "print('null values in each column:')\n",
    "df[['hasPrivacyLink', 'hasTermsOfServiceLink']].isna().sum()"
   ]
  },
  {
   "cell_type": "code",
   "execution_count": null,
   "id": "454cc659",
   "metadata": {},
   "outputs": [
    {
     "name": "stderr",
     "output_type": "stream",
     "text": [
      "/tmp/ipykernel_84292/2342464855.py:3: FutureWarning: Downcasting object dtype arrays on .fillna, .ffill, .bfill is deprecated and will change in a future version. Call result.infer_objects(copy=False) instead. To opt-in to the future behavior, set `pd.set_option('future.no_silent_downcasting', True)`\n",
      "  df[\"hasPrivacyLink\"] = df[\"hasPrivacyLink\"].fillna(False)\n",
      "/tmp/ipykernel_84292/2342464855.py:4: FutureWarning: Downcasting object dtype arrays on .fillna, .ffill, .bfill is deprecated and will change in a future version. Call result.infer_objects(copy=False) instead. To opt-in to the future behavior, set `pd.set_option('future.no_silent_downcasting', True)`\n",
      "  df[\"hasTermsOfServiceLink\"] = df[\"hasTermsOfServiceLink\"].fillna(False)\n"
     ]
    }
   ],
   "source": [
    "# fill with unknown or False\n",
    "\n",
    "df[\"hasPrivacyLink\"] = df[\"hasPrivacyLink\"].fillna(False) \n",
    "df[\"hasTermsOfServiceLink\"] = df[\"hasTermsOfServiceLink\"].fillna(False) "
   ]
  },
  {
   "cell_type": "markdown",
   "id": "299ab785",
   "metadata": {},
   "source": [
    "## hasTOSRating & appContentBrandSafetyRating"
   ]
  },
  {
   "cell_type": "code",
   "execution_count": null,
   "id": "8b116a0d",
   "metadata": {},
   "outputs": [
    {
     "data": {
      "text/plain": [
       "hasTermsOfServiceLinkRating    6596\n",
       "appContentBrandSafetyRating    8833\n",
       "dtype: int64"
      ]
     },
     "execution_count": 30,
     "metadata": {},
     "output_type": "execute_result"
    }
   ],
   "source": [
    "df[['hasTermsOfServiceLinkRating','appContentBrandSafetyRating']].isna().sum()"
   ]
  },
  {
   "cell_type": "code",
   "execution_count": null,
   "id": "9512ca4e",
   "metadata": {},
   "outputs": [
    {
     "name": "stdout",
     "output_type": "stream",
     "text": [
      "has TOS rating values: ['low', nan, 'high']\n",
      "app content brand safety rating values: ['medium', nan, 'low', 'high']\n"
     ]
    }
   ],
   "source": [
    "print(\"has TOS rating values:\",df['hasTermsOfServiceLinkRating'].unique().tolist())\n",
    "print(\"app content brand safety rating values:\",df['appContentBrandSafetyRating'].unique().tolist())"
   ]
  },
  {
   "cell_type": "code",
   "execution_count": null,
   "id": "c3457ca6",
   "metadata": {},
   "outputs": [],
   "source": [
    "# fill with unknown\n",
    "df[\"hasTermsOfServiceLinkRating\"] = df[\"hasTermsOfServiceLinkRating\"].fillna(\"unknown\")\n",
    "df[\"appContentBrandSafetyRating\"] = df[\"appContentBrandSafetyRating\"].fillna(\"unknown\")"
   ]
  },
  {
   "cell_type": "markdown",
   "id": "99152468",
   "metadata": {},
   "source": [
    "## other cols"
   ]
  },
  {
   "cell_type": "code",
   "execution_count": null,
   "id": "5aa70fc1",
   "metadata": {},
   "outputs": [
    {
     "name": "stdout",
     "output_type": "stream",
     "text": [
      "null values in each column:\n"
     ]
    },
    {
     "data": {
      "text/plain": [
       "isCorporateEmailScore    1568\n",
       "adSpent                  8105\n",
       "appAge                     67\n",
       "averageUserRating        1746\n",
       "dtype: int64"
      ]
     },
     "execution_count": 33,
     "metadata": {},
     "output_type": "execute_result"
    }
   ],
   "source": [
    "other_columns = [\"isCorporateEmailScore\", \"adSpent\", \"appAge\", \"averageUserRating\"]\n",
    "\n",
    "print(\"null values in each column:\")\n",
    "df[other_columns].isna().sum()"
   ]
  },
  {
   "cell_type": "code",
   "execution_count": null,
   "id": "4b6ead3e",
   "metadata": {},
   "outputs": [],
   "source": [
    "for col in other_columns:\n",
    "    df[f\"{col}_missing\"] = df[col].isna().astype(int)\n",
    "    df[col] = df[col].fillna(df[col].median())\n"
   ]
  },
  {
   "cell_type": "markdown",
   "id": "bff21384",
   "metadata": {},
   "source": [
    "## Encoder"
   ]
  },
  {
   "cell_type": "code",
   "execution_count": null,
   "id": "47647364",
   "metadata": {},
   "outputs": [],
   "source": [
    "categorical_columns = ['primaryGenreName', 'deviceType']\n",
    "ordinal_columns = ['hasTermsOfServiceLinkRating', 'appContentBrandSafetyRating','appDescriptionBrandSafetyRating', 'mfaRating']\n",
    "\n",
    "# one hot encoding\n",
    "# for col in categorical_columns:\n",
    "#     df = pd.get_dummies(df, columns=[col], prefix=col, drop_first=False)\n",
    "\n",
    "# ordinal encoder\n",
    "ordinal_mapping = {'low': 0, 'medium': 1, 'high': 2, 'unknown': -1}\n",
    "\n",
    "for col in ordinal_columns:\n",
    "    df[col] = df[col].map(ordinal_mapping)\n"
   ]
  },
  {
   "cell_type": "code",
   "execution_count": null,
   "id": "f8241143",
   "metadata": {},
   "outputs": [
    {
     "data": {
      "text/plain": [
       "['developerCountry',\n",
       " 'countryCode',\n",
       " 'primaryGenreName',\n",
       " 'deviceType',\n",
       " 'coppaRisk']"
      ]
     },
     "execution_count": 36,
     "metadata": {},
     "output_type": "execute_result"
    }
   ],
   "source": [
    "df.select_dtypes(include=['object']).columns.tolist()"
   ]
  },
  {
   "cell_type": "code",
   "execution_count": null,
   "id": "b0be66d3",
   "metadata": {},
   "outputs": [
    {
     "data": {
      "text/plain": [
       "(10000, 25)"
      ]
     },
     "execution_count": 37,
     "metadata": {},
     "output_type": "execute_result"
    }
   ],
   "source": [
    "df.shape"
   ]
  },
  {
   "cell_type": "markdown",
   "id": "8ab4183f",
   "metadata": {},
   "source": [
    "# export result"
   ]
  },
  {
   "cell_type": "code",
   "execution_count": 45,
   "id": "3599ac05",
   "metadata": {},
   "outputs": [
    {
     "data": {
      "text/plain": [
       "((7000, 25), (3000, 25))"
      ]
     },
     "execution_count": 45,
     "metadata": {},
     "output_type": "execute_result"
    }
   ],
   "source": [
    "# export result\n",
    "df_train = df.iloc[:len(df_train)]\n",
    "df_test = df.iloc[len(df_train):]\n",
    "\n",
    "df_train.to_csv('../data/new_train_2_no_encode.csv', index=False)\n",
    "df_test.to_csv('../data/new_test_2_no_encode.csv', index=False)\n",
    "df_train.shape, df_test.shape"
   ]
  },
  {
   "cell_type": "code",
   "execution_count": 31,
   "id": "f913982a",
   "metadata": {},
   "outputs": [
    {
     "name": "stdout",
     "output_type": "stream",
     "text": [
      "developerCountry: 7261 null values\n",
      "countryCode: 93 null values\n",
      "coppaRisk: 3000 null values\n"
     ]
    }
   ],
   "source": [
    "#check null count for each columns who has > 0 null values\n",
    "for col in df.columns:\n",
    "    if df[col].isna().sum() > 0:\n",
    "        print(f\"{col}: {df[col].isna().sum()} null values\")"
   ]
  },
  {
   "cell_type": "markdown",
   "id": "d83f14ee",
   "metadata": {},
   "source": [
    "# Analysis feature"
   ]
  },
  {
   "cell_type": "code",
   "execution_count": null,
   "id": "18fee545",
   "metadata": {},
   "outputs": [],
   "source": [
    "import pandas as pd\n",
    "\n",
    "df_train = pd.read_csv('../data/new_train_2_no_encode.csv')\n",
    "df_test = pd.read_csv('../data/new_test_2_no_encode.csv')\n",
    "\n",
    "df_train = df_train.drop(columns=['countryCode','developerCountry'])\n"
   ]
  },
  {
   "cell_type": "markdown",
   "id": "d36017eb",
   "metadata": {},
   "source": [
    "## Variation"
   ]
  },
  {
   "cell_type": "code",
   "execution_count": null,
   "id": "48b7255b",
   "metadata": {},
   "outputs": [
    {
     "data": {
      "text/html": [
       "<div>\n",
       "<style scoped>\n",
       "    .dataframe tbody tr th:only-of-type {\n",
       "        vertical-align: middle;\n",
       "    }\n",
       "\n",
       "    .dataframe tbody tr th {\n",
       "        vertical-align: top;\n",
       "    }\n",
       "\n",
       "    .dataframe thead th {\n",
       "        text-align: right;\n",
       "    }\n",
       "</style>\n",
       "<table border=\"1\" class=\"dataframe\">\n",
       "  <thead>\n",
       "    <tr style=\"text-align: right;\">\n",
       "      <th></th>\n",
       "      <th>developerCountry</th>\n",
       "      <th>countryCode</th>\n",
       "      <th>userRatingCount</th>\n",
       "      <th>downloads</th>\n",
       "      <th>hasPrivacyLink</th>\n",
       "      <th>hasTermsOfServiceLink</th>\n",
       "      <th>hasTermsOfServiceLinkRating</th>\n",
       "      <th>isCorporateEmailScore</th>\n",
       "      <th>adSpent</th>\n",
       "      <th>appAge</th>\n",
       "      <th>...</th>\n",
       "      <th>primaryGenreName_Tools</th>\n",
       "      <th>primaryGenreName_Travel</th>\n",
       "      <th>primaryGenreName_Travel &amp; Local</th>\n",
       "      <th>primaryGenreName_Utilities</th>\n",
       "      <th>primaryGenreName_Video Players &amp; Editors</th>\n",
       "      <th>primaryGenreName_Weather</th>\n",
       "      <th>deviceType_connected-tv/ott</th>\n",
       "      <th>deviceType_smartphone</th>\n",
       "      <th>deviceType_tablet</th>\n",
       "      <th>deviceType_undetermined</th>\n",
       "    </tr>\n",
       "  </thead>\n",
       "  <tbody>\n",
       "    <tr>\n",
       "      <th>0</th>\n",
       "      <td>NaN</td>\n",
       "      <td>GLOBAL</td>\n",
       "      <td>2</td>\n",
       "      <td>6.621406</td>\n",
       "      <td>True</td>\n",
       "      <td>False</td>\n",
       "      <td>-1</td>\n",
       "      <td>0.000000</td>\n",
       "      <td>7.750849</td>\n",
       "      <td>81.600000</td>\n",
       "      <td>...</td>\n",
       "      <td>False</td>\n",
       "      <td>False</td>\n",
       "      <td>False</td>\n",
       "      <td>False</td>\n",
       "      <td>False</td>\n",
       "      <td>False</td>\n",
       "      <td>False</td>\n",
       "      <td>False</td>\n",
       "      <td>False</td>\n",
       "      <td>False</td>\n",
       "    </tr>\n",
       "    <tr>\n",
       "      <th>1</th>\n",
       "      <td>ICELAND</td>\n",
       "      <td>EMEA</td>\n",
       "      <td>0</td>\n",
       "      <td>8.922792</td>\n",
       "      <td>True</td>\n",
       "      <td>True</td>\n",
       "      <td>0</td>\n",
       "      <td>0.000000</td>\n",
       "      <td>0.027742</td>\n",
       "      <td>24.700000</td>\n",
       "      <td>...</td>\n",
       "      <td>False</td>\n",
       "      <td>False</td>\n",
       "      <td>False</td>\n",
       "      <td>False</td>\n",
       "      <td>False</td>\n",
       "      <td>False</td>\n",
       "      <td>False</td>\n",
       "      <td>False</td>\n",
       "      <td>False</td>\n",
       "      <td>False</td>\n",
       "    </tr>\n",
       "    <tr>\n",
       "      <th>2</th>\n",
       "      <td>UNITED STATES</td>\n",
       "      <td>RU</td>\n",
       "      <td>13059</td>\n",
       "      <td>6.621406</td>\n",
       "      <td>True</td>\n",
       "      <td>False</td>\n",
       "      <td>2</td>\n",
       "      <td>99.000000</td>\n",
       "      <td>9.249056</td>\n",
       "      <td>40.300000</td>\n",
       "      <td>...</td>\n",
       "      <td>False</td>\n",
       "      <td>False</td>\n",
       "      <td>False</td>\n",
       "      <td>False</td>\n",
       "      <td>False</td>\n",
       "      <td>False</td>\n",
       "      <td>False</td>\n",
       "      <td>True</td>\n",
       "      <td>False</td>\n",
       "      <td>False</td>\n",
       "    </tr>\n",
       "    <tr>\n",
       "      <th>3</th>\n",
       "      <td>NaN</td>\n",
       "      <td>GLOBAL</td>\n",
       "      <td>0</td>\n",
       "      <td>6.621406</td>\n",
       "      <td>True</td>\n",
       "      <td>False</td>\n",
       "      <td>2</td>\n",
       "      <td>0.000000</td>\n",
       "      <td>7.750849</td>\n",
       "      <td>39.233333</td>\n",
       "      <td>...</td>\n",
       "      <td>False</td>\n",
       "      <td>False</td>\n",
       "      <td>False</td>\n",
       "      <td>False</td>\n",
       "      <td>False</td>\n",
       "      <td>False</td>\n",
       "      <td>False</td>\n",
       "      <td>False</td>\n",
       "      <td>False</td>\n",
       "      <td>False</td>\n",
       "    </tr>\n",
       "    <tr>\n",
       "      <th>4</th>\n",
       "      <td>NaN</td>\n",
       "      <td>GLOBAL</td>\n",
       "      <td>0</td>\n",
       "      <td>6.621406</td>\n",
       "      <td>False</td>\n",
       "      <td>False</td>\n",
       "      <td>-1</td>\n",
       "      <td>0.000000</td>\n",
       "      <td>7.750849</td>\n",
       "      <td>65.533333</td>\n",
       "      <td>...</td>\n",
       "      <td>False</td>\n",
       "      <td>False</td>\n",
       "      <td>False</td>\n",
       "      <td>False</td>\n",
       "      <td>False</td>\n",
       "      <td>False</td>\n",
       "      <td>False</td>\n",
       "      <td>False</td>\n",
       "      <td>False</td>\n",
       "      <td>False</td>\n",
       "    </tr>\n",
       "  </tbody>\n",
       "</table>\n",
       "<p>5 rows × 102 columns</p>\n",
       "</div>"
      ],
      "text/plain": [
       "  developerCountry countryCode  userRatingCount  downloads  hasPrivacyLink  \\\n",
       "0              NaN      GLOBAL                2   6.621406            True   \n",
       "1          ICELAND        EMEA                0   8.922792            True   \n",
       "2    UNITED STATES          RU            13059   6.621406            True   \n",
       "3              NaN      GLOBAL                0   6.621406            True   \n",
       "4              NaN      GLOBAL                0   6.621406           False   \n",
       "\n",
       "   hasTermsOfServiceLink  hasTermsOfServiceLinkRating  isCorporateEmailScore  \\\n",
       "0                  False                           -1               0.000000   \n",
       "1                   True                            0               0.000000   \n",
       "2                  False                            2              99.000000   \n",
       "3                  False                            2               0.000000   \n",
       "4                  False                           -1               0.000000   \n",
       "\n",
       "   adSpent    appAge  ...  primaryGenreName_Tools  primaryGenreName_Travel  \\\n",
       "0 7.750849 81.600000  ...                   False                    False   \n",
       "1 0.027742 24.700000  ...                   False                    False   \n",
       "2 9.249056 40.300000  ...                   False                    False   \n",
       "3 7.750849 39.233333  ...                   False                    False   \n",
       "4 7.750849 65.533333  ...                   False                    False   \n",
       "\n",
       "   primaryGenreName_Travel & Local  primaryGenreName_Utilities  \\\n",
       "0                            False                       False   \n",
       "1                            False                       False   \n",
       "2                            False                       False   \n",
       "3                            False                       False   \n",
       "4                            False                       False   \n",
       "\n",
       "   primaryGenreName_Video Players & Editors  primaryGenreName_Weather  \\\n",
       "0                                     False                     False   \n",
       "1                                     False                     False   \n",
       "2                                     False                     False   \n",
       "3                                     False                     False   \n",
       "4                                     False                     False   \n",
       "\n",
       "   deviceType_connected-tv/ott  deviceType_smartphone  deviceType_tablet  \\\n",
       "0                        False                  False              False   \n",
       "1                        False                  False              False   \n",
       "2                        False                   True              False   \n",
       "3                        False                  False              False   \n",
       "4                        False                  False              False   \n",
       "\n",
       "   deviceType_undetermined  \n",
       "0                    False  \n",
       "1                    False  \n",
       "2                    False  \n",
       "3                    False  \n",
       "4                    False  \n",
       "\n",
       "[5 rows x 102 columns]"
      ]
     },
     "execution_count": 12,
     "metadata": {},
     "output_type": "execute_result"
    }
   ],
   "source": [
    "\n",
    "df_test.head()"
   ]
  },
  {
   "cell_type": "code",
   "execution_count": 16,
   "id": "50cde0bc",
   "metadata": {},
   "outputs": [
    {
     "data": {
      "text/plain": [
       "appAge_missing                             0.007093\n",
       "countryCode_LATAM                          0.006388\n",
       "primaryGenreName_Auto & Vehicles           0.006106\n",
       "developerCountry_SINGAPORE                 0.005965\n",
       "mfaRating                                  0.005845\n",
       "countryCode_RU                             0.005824\n",
       "primaryGenreName_News                      0.005824\n",
       "primaryGenreName_Video Players & Editors   0.005541\n",
       "primaryGenreName_Music                     0.005117\n",
       "primaryGenreName_Photo & Video             0.004834\n",
       "primaryGenreName_House & Home              0.004551\n",
       "countryCode_FR                             0.003843\n",
       "primaryGenreName_Weather                   0.003275\n",
       "primaryGenreName_Events                    0.003275\n",
       "countryCode_KR                             0.003275\n",
       "primaryGenreName_Dating                    0.002991\n",
       "primaryGenreName_Reference                 0.002991\n",
       "primaryGenreName_Beauty                    0.002991\n",
       "countryCode_SA                             0.002991\n",
       "primaryGenreName_Stickers                  0.002849\n",
       "countryCode_GB                             0.002707\n",
       "primaryGenreName_Book                      0.002565\n",
       "primaryGenreName_Navigation                0.002139\n",
       "countryCode_TR                             0.002139\n",
       "countryCode_KZ                             0.001996\n",
       "deviceType_connected-tv/ott                0.001712\n",
       "deviceType_undetermined                    0.001569\n",
       "countryCode_IL                             0.001142\n",
       "primaryGenreName_Comics                    0.000999\n",
       "countryCode_KG                             0.000999\n",
       "countryCode_PS                             0.000857\n",
       "developerCountry_NEW ZEALAND               0.000857\n",
       "primaryGenreName_Graphics & Design         0.000857\n",
       "countryCode_AR                             0.000714\n",
       "countryCode_NG                             0.000714\n",
       "primaryGenreName_Parenting                 0.000714\n",
       "primaryGenreName_Libraries & Demo          0.000428\n",
       "countryCode_EG                             0.000428\n",
       "primaryGenreName_Developer Tools           0.000286\n",
       "countryCode_PA                             0.000143\n",
       "countryCode_MN                             0.000143\n",
       "countryCode_BJ                             0.000143\n",
       "primaryGenreName_Magazines & Newspapers    0.000143\n",
       "countryCode_CM                             0.000143\n",
       "developerCountry_GREECE                    0.000143\n",
       "developerCountry_HONDURAS                  0.000143\n",
       "developerCountry_ZIMBABWE                  0.000143\n",
       "developerCountry_BELIZE                    0.000143\n",
       "developerCountry_MALDIVES                  0.000143\n",
       "ID                                         0.000000\n",
       "dtype: float64"
      ]
     },
     "execution_count": 16,
     "metadata": {},
     "output_type": "execute_result"
    }
   ],
   "source": [
    "pd.options.display.float_format = '{:.6f}'.format\n",
    "df_train.var().sort_values(ascending=False).tail(50)"
   ]
  },
  {
   "cell_type": "markdown",
   "id": "116f7db5",
   "metadata": {},
   "source": [
    "## Corelation"
   ]
  },
  {
   "cell_type": "code",
   "execution_count": 8,
   "id": "5d5ccb14",
   "metadata": {},
   "outputs": [
    {
     "data": {
      "text/plain": [
       "primaryGenreName_Games             0.268717\n",
       "primaryGenreName_Education         0.256343\n",
       "adSpent_missing                    0.175274\n",
       "countryCode_GLOBAL                 0.169707\n",
       "downloads                          0.156582\n",
       "deviceType_smartphone              0.118975\n",
       "developerCountry_missing           0.116096\n",
       "hasTermsOfServiceLinkRating        0.107594\n",
       "appDescriptionBrandSafetyRating    0.096584\n",
       "hasTermsOfServiceLink              0.095782\n",
       "primaryGenreName_Business          0.084266\n",
       "appContentBrandSafetyRating        0.082043\n",
       "averageUserRating                  0.080839\n",
       "developerCountry_CYPRUS            0.074960\n",
       "primaryGenreName_Lifestyle         0.072855\n",
       "developerCountry_HONG KONG         0.072134\n",
       "countryCode_PS                     0.071835\n",
       "deviceType_tablet                  0.071331\n",
       "averageUserRating_missing          0.069571\n",
       "primaryGenreName_Tools             0.068957\n",
       "Name: coppaRisk, dtype: float64"
      ]
     },
     "execution_count": 8,
     "metadata": {},
     "output_type": "execute_result"
    }
   ],
   "source": [
    "\n",
    "abs(df_train.corr()['coppaRisk']).sort_values(ascending=False).drop('coppaRisk').head(20)"
   ]
  },
  {
   "cell_type": "markdown",
   "id": "56830407",
   "metadata": {},
   "source": [
    "## Target"
   ]
  },
  {
   "cell_type": "code",
   "execution_count": 18,
   "id": "51c3a179",
   "metadata": {},
   "outputs": [
    {
     "data": {
      "text/plain": [
       "coppaRisk\n",
       "0.000000    6304\n",
       "1.000000     696\n",
       "Name: count, dtype: int64"
      ]
     },
     "execution_count": 18,
     "metadata": {},
     "output_type": "execute_result"
    }
   ],
   "source": [
    "df_train['coppaRisk'].value_counts()"
   ]
  },
  {
   "cell_type": "code",
   "execution_count": 19,
   "id": "84d83878",
   "metadata": {},
   "outputs": [
    {
     "data": {
      "text/plain": [
       "(coppaRisk\n",
       " 0.000000    5043\n",
       " 1.000000     557\n",
       " Name: count, dtype: int64,\n",
       " coppaRisk\n",
       " 0.000000    1261\n",
       " 1.000000     139\n",
       " Name: count, dtype: int64)"
      ]
     },
     "execution_count": 19,
     "metadata": {},
     "output_type": "execute_result"
    }
   ],
   "source": [
    "from sklearn.model_selection import train_test_split\n",
    "\n",
    "X = df_train.drop(columns=['coppaRisk'])\n",
    "y = df_train['coppaRisk']\n",
    "X_train, X_valid, y_train, y_valid = train_test_split(X, y, test_size=0.2,stratify=y, random_state=42)\n",
    "\n",
    "y_train.value_counts(), y_valid.value_counts()"
   ]
  }
 ],
 "metadata": {
  "kernelspec": {
   "display_name": "Python 3",
   "language": "python",
   "name": "python3"
  },
  "language_info": {
   "codemirror_mode": {
    "name": "ipython",
    "version": 3
   },
   "file_extension": ".py",
   "mimetype": "text/x-python",
   "name": "python",
   "nbconvert_exporter": "python",
   "pygments_lexer": "ipython3",
   "version": "3.11.13"
  }
 },
 "nbformat": 4,
 "nbformat_minor": 5
}
